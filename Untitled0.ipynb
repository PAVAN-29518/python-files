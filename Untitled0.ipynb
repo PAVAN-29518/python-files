{
  "nbformat": 4,
  "nbformat_minor": 0,
  "metadata": {
    "colab": {
      "provenance": [],
      "authorship_tag": "ABX9TyO16ckW2YHkA74Oxotw/a6l",
      "include_colab_link": true
    },
    "kernelspec": {
      "name": "python3",
      "display_name": "Python 3"
    },
    "language_info": {
      "name": "python"
    }
  },
  "cells": [
    {
      "cell_type": "markdown",
      "metadata": {
        "id": "view-in-github",
        "colab_type": "text"
      },
      "source": [
        "<a href=\"https://colab.research.google.com/github/PAVAN-29518/python-files/blob/main/Untitled0.ipynb\" target=\"_parent\"><img src=\"https://colab.research.google.com/assets/colab-badge.svg\" alt=\"Open In Colab\"/></a>"
      ]
    },
    {
      "cell_type": "code",
      "execution_count": null,
      "metadata": {
        "id": "PKBEc_5T8eXj"
      },
      "outputs": [],
      "source": [
        "x =int(input(\"Enter the First number:\"))\n",
        "y =int(input(\"Enter the Second number:\"))\n",
        "\n",
        "add = x + y\n",
        "sub = x - y\n",
        "pro = x * y\n",
        "div = x / y\n",
        "\n",
        "print(\"Addition:\",add)\n",
        "print(\"Subtraction :\",sub)\n",
        "print(\"Multiplication:\",pro)\n",
        "print(\"Division:\",div)\n"
      ]
    }
  ]
}